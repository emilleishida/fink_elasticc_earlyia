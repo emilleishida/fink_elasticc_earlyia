{
 "cells": [
  {
   "cell_type": "code",
   "execution_count": 1,
   "id": "f5c17693-6a16-46d1-b782-6dea2f0ac3d4",
   "metadata": {},
   "outputs": [],
   "source": [
    "import pandas as pd\n",
    "import numpy as np\n",
    "import os\n",
    "import pickle\n",
    "import matplotlib.pylab as plt"
   ]
  },
  {
   "cell_type": "code",
   "execution_count": 2,
   "id": "69b0238d-ebff-4377-bf69-1b99379c1993",
   "metadata": {},
   "outputs": [],
   "source": [
    "# read data from Julien\n",
    "fname = '/media/ELAsTICC/Fink/first_year/' + \\\n",
    "        'sample_elasticc_training_validation_v1.parquet'\n",
    "\n",
    "data_julien = pd.read_parquet(fname)"
   ]
  },
  {
   "cell_type": "code",
   "execution_count": 3,
   "id": "79d6a72e-5a85-46bc-899f-623673d81fdb",
   "metadata": {},
   "outputs": [
    {
     "data": {
      "text/plain": [
       "(11565, 10)"
      ]
     },
     "execution_count": 3,
     "metadata": {},
     "output_type": "execute_result"
    }
   ],
   "source": [
    "data_julien.shape"
   ]
  },
  {
   "cell_type": "code",
   "execution_count": 4,
   "id": "308575bc-31e4-4817-8fd6-0746a9af5268",
   "metadata": {},
   "outputs": [],
   "source": [
    "# get alert ids\n",
    "alertid_julien = data_julien['alertId'].values"
   ]
  },
  {
   "cell_type": "code",
   "execution_count": 5,
   "id": "f2449e6a-9305-4913-a5f6-120b5f76f143",
   "metadata": {},
   "outputs": [],
   "source": [
    "#read training and test\n",
    "data_train = pd.read_csv('/media/ELAsTICC/Fink/first_year/' + \\\n",
    "                         'early_SNIa/final_model/train.csv', index_col=False)\n",
    "\n",
    "data_test = pd.read_csv('/media/ELAsTICC/Fink/first_year/' + \\\n",
    "                         'early_SNIa/final_model/test.csv', index_col=False)"
   ]
  },
  {
   "cell_type": "code",
   "execution_count": 6,
   "id": "4a885a7c-7498-42ae-9887-1bcf1876376a",
   "metadata": {},
   "outputs": [],
   "source": [
    "# remove alerts that were used for training\n",
    "flag_train = np.isin(alertid_julien, data_train['alertId'].values)\n",
    "data_julien = data_julien[~flag_train]\n",
    "alertid_julien = data_julien['alertId'].values"
   ]
  },
  {
   "cell_type": "code",
   "execution_count": 7,
   "id": "0031c874-b507-4c3c-983d-6321dcce0d43",
   "metadata": {},
   "outputs": [
    {
     "data": {
      "text/plain": [
       "Index(['alertId', 'classId', 'rf_snia_vs_nonia', 'snn_snia_vs_nonia',\n",
       "       'snn_broad_class', 'snn_broad_max_prob', 'cats_broad_class',\n",
       "       'cats_broad_max_prob', 'rf_agn_vs_nonagn', 'rf_slsn_vs_nonslsn'],\n",
       "      dtype='object')"
      ]
     },
     "execution_count": 7,
     "metadata": {},
     "output_type": "execute_result"
    }
   ],
   "source": [
    "data_julien.keys()"
   ]
  },
  {
   "cell_type": "code",
   "execution_count": 8,
   "id": "6a0aa7bf-34c4-4f81-91c9-98760856fcf3",
   "metadata": {},
   "outputs": [
    {
     "name": "stdout",
     "output_type": "stream",
     "text": [
      "class_111.csv 48 2507323 [111]\n",
      "class_131.csv 48 170026 [131]\n",
      "class_212.csv 48 2230557 [212]\n",
      "class_214.csv 48 1301841 [214]\n",
      "class_124.csv 48 12923 [124]\n",
      "class_123.csv 48 4023 [123]\n",
      "class_135.csv 48 2761 [135]\n",
      "class_213.csv 48 429117 [213]\n",
      "class_221.csv 48 453542 [221]\n",
      "class_113.csv 48 2451398 [113]\n",
      "class_115.csv 48 49795 [115]\n",
      "class_133.csv 48 4043 [133]\n",
      "class_132.csv 48 30705 [132]\n",
      "class_121.csv 48 5 [121]\n",
      "class_134.csv 48 12833 [134]\n",
      "class_211.csv 48 47713 [211]\n",
      "class_112.csv 48 583007 [112]\n",
      "class_114.csv 48 60497 [114]\n",
      "Total:  10352109\n"
     ]
    }
   ],
   "source": [
    "# read all processed alerts\n",
    "\n",
    "input_dir = '/media/ELAsTICC/Fink/first_year/early_SNIa/all_features/'\n",
    "\n",
    "flist = os.listdir(input_dir)\n",
    "flist.remove('.ipynb_checkpoints')\n",
    "\n",
    "data_list = []\n",
    "for fname in flist:\n",
    "    data_temp = pd.read_csv(input_dir + fname, index_col=False)\n",
    "    \n",
    "    col_remove = []\n",
    "    for colname in data_temp.keys():\n",
    "        if 'Unnamed' in colname:\n",
    "            col_remove.append(colname)\n",
    "            \n",
    "    if len(col_remove) > 0:\n",
    "        data_temp.drop(columns=col_remove, inplace=True)\n",
    "\n",
    "    data_list.append(data_temp)\n",
    "    \n",
    "    print(fname, len(data_temp.keys()), data_temp.shape[0], np.unique(data_temp['classId'].values))\n",
    "    \n",
    "data_pd = pd.concat(data_list, ignore_index=True)\n",
    "\n",
    "print('Total: ', data_pd.shape[0])"
   ]
  },
  {
   "cell_type": "code",
   "execution_count": 9,
   "id": "e2d5c6cf-c9de-4a43-ad63-9da52528a125",
   "metadata": {},
   "outputs": [],
   "source": [
    "flag_julien = np.isin(data_pd['alertId'].values, alertid_julien)"
   ]
  },
  {
   "cell_type": "code",
   "execution_count": 10,
   "id": "e7e14653-e43a-4b71-9ac1-0ddb105be0a8",
   "metadata": {},
   "outputs": [],
   "source": [
    "features_julien = data_pd[flag_julien]"
   ]
  },
  {
   "cell_type": "code",
   "execution_count": 11,
   "id": "30d5ba69-27d0-448c-87a3-37e2426b3275",
   "metadata": {},
   "outputs": [
    {
     "data": {
      "text/plain": [
       "(7048, 48)"
      ]
     },
     "execution_count": 11,
     "metadata": {},
     "output_type": "execute_result"
    }
   ],
   "source": [
    "features_julien.shape"
   ]
  },
  {
   "cell_type": "code",
   "execution_count": 12,
   "id": "c13a7402-9b07-4fd8-9df4-25feb0742453",
   "metadata": {},
   "outputs": [],
   "source": [
    "# read trained model\n",
    "rf = pickle.load(open('/media/ELAsTICC/Fink/first_year/early_SNIa/' + \\\n",
    "                      'final_model/earlysnia_elasticc_small.pkl', 'rb'))"
   ]
  },
  {
   "cell_type": "code",
   "execution_count": 13,
   "id": "5c58cdd3-3631-4f4d-b6e6-73ab8f89e8c2",
   "metadata": {},
   "outputs": [
    {
     "name": "stderr",
     "output_type": "stream",
     "text": [
      "/media/emille/git/ELAsTiCC/venv/elasticc/lib/python3.7/site-packages/pandas/core/frame.py:4913: SettingWithCopyWarning: \n",
      "A value is trying to be set on a copy of a slice from a DataFrame\n",
      "\n",
      "See the caveats in the documentation: https://pandas.pydata.org/pandas-docs/stable/user_guide/indexing.html#returning-a-view-versus-a-copy\n",
      "  errors=errors,\n"
     ]
    }
   ],
   "source": [
    "test_features = features_julien[list(features_julien.keys())[3:]]\n",
    "test_features.drop(columns=['mwebv_err', 'mwebv_err.1'], inplace=True)\n",
    "\n",
    "test_labels = features_julien['classId'].values == 111"
   ]
  },
  {
   "cell_type": "code",
   "execution_count": 14,
   "id": "98a829dd-d7ce-40a5-88bc-5b1020972e3e",
   "metadata": {},
   "outputs": [
    {
     "data": {
      "text/plain": [
       "Index(['hostgal_dec', 'hostgal_ra', 'hostgal_snsep', 'hostgal_zphot',\n",
       "       'hostgal_zphot_err', 'ra', 'decl', 'a_u', 'b_u', 'c_u', 'snratio_u',\n",
       "       'mse_u', 'nrise_u', 'a_g', 'b_g', 'c_g', 'snratio_g', 'mse_g',\n",
       "       'nrise_g', 'a_r', 'b_r', 'c_r', 'snratio_r', 'mse_r', 'nrise_r', 'a_i',\n",
       "       'b_i', 'c_i', 'snratio_i', 'mse_i', 'nrise_i', 'a_z', 'b_z', 'c_z',\n",
       "       'snratio_z', 'mse_z', 'nrise_z', 'a_Y', 'b_Y', 'c_Y', 'snratio_Y',\n",
       "       'mse_Y', 'nrise_Y'],\n",
       "      dtype='object')"
      ]
     },
     "execution_count": 14,
     "metadata": {},
     "output_type": "execute_result"
    }
   ],
   "source": [
    "test_features.keys()"
   ]
  },
  {
   "cell_type": "code",
   "execution_count": 15,
   "id": "421d7a33-8151-4f1b-b72f-b11b0327bf01",
   "metadata": {},
   "outputs": [],
   "source": [
    "pred_labels = rf.predict(test_features)"
   ]
  },
  {
   "cell_type": "code",
   "execution_count": 16,
   "id": "ba11e79f-158e-47ec-9fd5-c0772792e3fd",
   "metadata": {},
   "outputs": [
    {
     "data": {
      "text/plain": [
       "0.8547105561861521"
      ]
     },
     "execution_count": 16,
     "metadata": {},
     "output_type": "execute_result"
    }
   ],
   "source": [
    "rf.score(test_features, test_labels)"
   ]
  },
  {
   "cell_type": "code",
   "execution_count": 17,
   "id": "9fcaf636-81cf-4ffd-a4ad-0b9a7f2311ad",
   "metadata": {},
   "outputs": [
    {
     "data": {
      "text/plain": [
       "0.6170583115752829"
      ]
     },
     "execution_count": 17,
     "metadata": {},
     "output_type": "execute_result"
    }
   ],
   "source": [
    "sum(np.logical_and(pred_labels, test_labels))/sum(pred_labels)"
   ]
  },
  {
   "cell_type": "code",
   "execution_count": 18,
   "id": "2bd34f38-dfb7-43eb-acc6-ca9dcd4d5493",
   "metadata": {},
   "outputs": [],
   "source": [
    "pred_prob = rf.predict_proba(test_features)"
   ]
  },
  {
   "cell_type": "code",
   "execution_count": 19,
   "id": "cda65c40-3147-43ff-8e57-951136f062fb",
   "metadata": {},
   "outputs": [
    {
     "data": {
      "image/png": "[encoded data removed]",
      "text/plain": [
       "<Figure size 576x360 with 1 Axes>"
      ]
     },
     "metadata": {
      "needs_background": "light"
     },
     "output_type": "display_data"
    }
   ],
   "source": [
    "plt.figure(figsize=(8,5))\n",
    "plt.hist(pred_prob[test_labels == 0][:,1], bins=20, label='nonIa', alpha=0.5)\n",
    "plt.hist(pred_prob[test_labels == 1][:,1], bins=20, label='Ia', alpha=0.5)\n",
    "plt.legend()\n",
    "plt.xlabel('Prob Ia')\n",
    "plt.ylabel('N')\n",
    "plt.show()"
   ]
  },
  {
   "cell_type": "code",
   "execution_count": 23,
   "id": "eedc8dbc-6d7a-456e-8b28-2cdaf2f8e065",
   "metadata": {},
   "outputs": [],
   "source": [
    "flag_wrong_ia = np.logical_and(test_labels == 0, pred_labels==1)\n",
    "contaminants = features_julien[flag_wrong_ia]\n",
    "\n",
    "cc_ia = features_julien[np.logical_and(test_labels==1, pred_labels==1)]"
   ]
  },
  {
   "cell_type": "code",
   "execution_count": 26,
   "id": "8e306018-7a66-41b8-bc9c-f94256de1fcb",
   "metadata": {},
   "outputs": [],
   "source": [
    "taxonomy = {111: 'Ia',\n",
    "           112: 'Ibc',\n",
    "           113: 'II',\n",
    "           114: 'Iax',\n",
    "           115: '91bg',\n",
    "           120: 'FastOther',\n",
    "           121: 'KN',\n",
    "           122: 'Mdwarf',\n",
    "           123: 'DwarfNovae',\n",
    "           124: 'mLens',\n",
    "           130: 'LongOther',\n",
    "           131: 'SLSN',\n",
    "           132: 'TDE',\n",
    "           133: 'ILOT',\n",
    "           134: 'CART',\n",
    "           135: 'PISN',\n",
    "           210: 'PeriodicOther',\n",
    "           211: 'Cepheid',\n",
    "           212: 'RRLyrae',\n",
    "           213: 'dScuti',\n",
    "           214: 'EB',\n",
    "           215: 'LPVMira',\n",
    "           220: 'NonPeriodicOther',\n",
    "           221: 'AGN'}\n",
    "\n",
    "bands = ['u', 'g', 'r', 'i', 'z', 'Y']"
   ]
  },
  {
   "cell_type": "code",
   "execution_count": 53,
   "id": "b1068ed5-9b5d-49d7-91a7-6097f2493edf",
   "metadata": {},
   "outputs": [
    {
     "name": "stdout",
     "output_type": "stream",
     "text": [
      "Ibc 0.21\n",
      "II 0.7\n",
      "Iax 0.02\n",
      "91bg 0.02\n",
      "SLSN 0.01\n",
      "TDE 0.01\n",
      "CART 0.0\n",
      "RRLyrae 0.0\n",
      "EB 0.0\n",
      "AGN 0.01\n"
     ]
    }
   ],
   "source": [
    "obj_class, freq = np.unique(contaminants['classId'].values, return_counts=True)\n",
    "\n",
    "for i in range(len(freq)):\n",
    "    print(taxonomy[obj_class[i]], round(freq[i]/contaminants.shape[0],2))"
   ]
  },
  {
   "cell_type": "code",
   "execution_count": 27,
   "id": "7fb32cbd-773f-4a4d-a5f4-f30dffab0d72",
   "metadata": {},
   "outputs": [
    {
     "data": {
      "image/png": "[encoded data removed]",
      "text/plain": [
       "<Figure size 1728x720 with 6 Axes>"
      ]
     },
     "metadata": {
      "needs_background": "light"
     },
     "output_type": "display_data"
    }
   ],
   "source": [
    "plt.figure(figsize=(24,10))\n",
    "\n",
    "for i in range(len(bands)):\n",
    "    plt.subplot(2,3,i+1)\n",
    "    plt.hist(contaminants['nrise_' + bands[i]], bins=20, label='contaminants', \n",
    "              alpha=0.5, density=True) \n",
    "    plt.hist(cc_ia['nrise_' + bands[i]], bins=20, label='corrected classified Ia', \n",
    "             alpha=0.5, density=True)\n",
    "    plt.legend()\n",
    "    plt.xlabel('nrise_' + bands[i])\n",
    "    \n",
    "plt.show()"
   ]
  },
  {
   "cell_type": "code",
   "execution_count": 31,
   "id": "6957c7ae-3a2e-4d59-9392-15e42e281d92",
   "metadata": {},
   "outputs": [
    {
     "data": {
      "text/plain": [
       "array([12, 11, 18,  7,  8, 17, 42, 13, 14,  9, 36, 41, 24, 15, 10, 37, 35,\n",
       "       38, 16, 30, 31, 39, 33, 32,  6, 29, 34, 23,  5, 28, 22, 20, 40, 19,\n",
       "       25, 27, 21, 26,  2,  1,  0,  4,  3])"
      ]
     },
     "execution_count": 31,
     "metadata": {},
     "output_type": "execute_result"
    }
   ],
   "source": [
    "np.argsort(rf.feature_importances_)"
   ]
  },
  {
   "cell_type": "code",
   "execution_count": null,
   "id": "000df5fb-ac2b-4a20-a74a-03e5ae88ee19",
   "metadata": {},
   "outputs": [],
   "source": []
  }
 ],
 "metadata": {
  "kernelspec": {
   "display_name": "Python 3 (ipykernel)",
   "language": "python",
   "name": "python3"
  },
  "language_info": {
   "codemirror_mode": {
    "name": "ipython",
    "version": 3
   },
   "file_extension": ".py",
   "mimetype": "text/x-python",
   "name": "python",
   "nbconvert_exporter": "python",
   "pygments_lexer": "ipython3",
   "version": "3.7.1"
  }
 },
 "nbformat": 4,
 "nbformat_minor": 5
}
