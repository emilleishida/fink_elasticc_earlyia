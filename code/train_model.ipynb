{
 "cells": [
  {
   "cell_type": "code",
   "execution_count": 1,
   "id": "a7cc8afb-d1e9-41d2-89b6-7ed573d2390c",
   "metadata": {},
   "outputs": [],
   "source": [
    "import pandas as pd\n",
    "import numpy as np\n",
    "import os\n",
    "from copy import deepcopy\n",
    "\n",
    "from actsnfink import *\n",
    "from sklearn.ensemble import RandomForestClassifier\n",
    "\n",
    "from sklearn.model_selection import cross_validate\n",
    "from sklearn.metrics import precision_score\n",
    "import pickle"
   ]
  },
  {
   "cell_type": "code",
   "execution_count": 2,
   "id": "adc2db7a-53fe-43e5-ae5b-0bf362a520da",
   "metadata": {},
   "outputs": [
    {
     "name": "stdout",
     "output_type": "stream",
     "text": [
      "class_111.csv 48 2507323 [111]\n",
      "class_131.csv 48 170026 [131]\n",
      "class_212.csv 48 2230557 [212]\n",
      "class_214.csv 48 1301841 [214]\n",
      "class_124.csv 48 12923 [124]\n",
      "class_123.csv 48 4023 [123]\n",
      "class_135.csv 48 2761 [135]\n",
      "class_213.csv 48 429117 [213]\n",
      "class_221.csv 48 453542 [221]\n",
      "class_113.csv 48 2451398 [113]\n",
      "class_115.csv 48 49795 [115]\n",
      "class_133.csv 48 4043 [133]\n",
      "class_132.csv 48 30705 [132]\n",
      "class_121.csv 48 5 [121]\n",
      "class_134.csv 48 12833 [134]\n",
      "class_211.csv 48 47713 [211]\n",
      "class_112.csv 48 583007 [112]\n",
      "class_114.csv 48 60497 [114]\n",
      "Total:  10352109\n"
     ]
    }
   ],
   "source": [
    "input_dir = '/media/ELAsTICC/Fink/first_year/early_SNIa/all_features/'\n",
    "\n",
    "flist = os.listdir(input_dir)\n",
    "flist.remove('.ipynb_checkpoints')\n",
    "\n",
    "data_list = []\n",
    "for fname in flist:\n",
    "    data_temp = pd.read_csv(input_dir + fname, index_col=False)\n",
    "    \n",
    "    col_remove = []\n",
    "    for colname in data_temp.keys():\n",
    "        if 'Unnamed' in colname:\n",
    "            col_remove.append(colname)\n",
    "            \n",
    "    if len(col_remove) > 0:\n",
    "        data_temp.drop(columns=col_remove, inplace=True)\n",
    "\n",
    "    data_list.append(data_temp)\n",
    "    \n",
    "    print(fname, len(data_temp.keys()), data_temp.shape[0], np.unique(data_temp['classId'].values))\n",
    "    \n",
    "data_pd = pd.concat(data_list, ignore_index=True)\n",
    "\n",
    "print('Total: ', data_pd.shape[0])"
   ]
  },
  {
   "cell_type": "code",
   "execution_count": 3,
   "id": "c487c305-a005-40df-9fd2-665375d7cb7c",
   "metadata": {},
   "outputs": [],
   "source": [
    "features_names_rep = list(data_pd.keys())\n",
    "for name in ['diaObjectId', 'alertId', 'mwebv_err', 'mwebv_err.1']:\n",
    "    features_names_rep.remove(name)"
   ]
  },
  {
   "cell_type": "code",
   "execution_count": 4,
   "id": "6d9260ab-2a8a-4bf6-999b-5648b4238db7",
   "metadata": {},
   "outputs": [],
   "source": [
    "data_unique = data_pd.drop_duplicates(subset=features_names_rep, keep='first')\n",
    "\n",
    "# separate train and test per object\n",
    "objects = np.unique(data_unique['diaObjectId'].values)\n",
    "\n",
    "objects_train = np.random.choice(objects, size=int(len(objects)/2), replace=False)\n",
    "train_flag = np.isin(data_unique['diaObjectId'].values, objects_train)\n",
    "\n",
    "data_train_all = data_unique[train_flag]\n",
    "data_test_all = data_unique[~train_flag]\n",
    "\n",
    "# separate ias and nonias\n",
    "train_ia_flag = data_train_all['classId'].values == 111\n",
    "data_train_ia = data_train_all[train_ia_flag]\n",
    "data_train_others = data_train_all[~train_ia_flag]\n",
    "\n",
    "test_ia_flag = data_test_all['classId'].values == 111\n",
    "data_test_ia = data_test_all[test_ia_flag]\n",
    "data_test_others = data_test_all[~test_ia_flag]"
   ]
  },
  {
   "cell_type": "code",
   "execution_count": 16,
   "id": "0eec4d4f-c2ae-4ceb-814d-a96bf0a30fa5",
   "metadata": {},
   "outputs": [],
   "source": [
    "ntrain = 500000\n",
    "ntest = min(1000000, data_test_ia.shape[0])\n",
    "\n",
    "# construct a sample 50/50  for Ia/others\n",
    "data_train_use = pd.concat([data_train_ia.sample(n=ntrain, replace=False),\n",
    "                           data_train_others.sample(n=ntrain, replace=False)], \n",
    "                           ignore_index=True)\n",
    "data_train_use = data_train_use.sample(frac=1, replace=False)\n",
    "\n",
    "data_test_use = pd.concat([data_test_ia.sample(n=ntest, replace=False),\n",
    "                           data_test_others.sample(n=ntest, replace=False)],\n",
    "                         ignore_index=True)\n",
    "data_test_use = data_test_use.sample(frac=1, replace=False)"
   ]
  },
  {
   "cell_type": "code",
   "execution_count": 17,
   "id": "38f7cac3-4a80-4fa8-bb21-dd23d804c5d0",
   "metadata": {},
   "outputs": [],
   "source": [
    "data_train_use.drop(columns=['mwebv_err', 'mwebv_err.1'], inplace=True)\n",
    "data_test_use.drop(columns=['mwebv_err', 'mwebv_err.1'], inplace=True)"
   ]
  },
  {
   "cell_type": "code",
   "execution_count": 18,
   "id": "a7e8b233-0773-4340-9abe-b8954d0643cd",
   "metadata": {},
   "outputs": [],
   "source": [
    "data_train_features = deepcopy(data_train_use[features_names_rep[1:]])\n",
    "data_train_labels = data_train_use['classId'].values == 111\n",
    "\n",
    "data_test_features = deepcopy(data_test_use[features_names_rep[1:]])\n",
    "#data_test_features = deepcopy(data_test_use[features_use])\n",
    "\n",
    "data_test_labels = data_test_use['classId'].values == 111"
   ]
  },
  {
   "cell_type": "code",
   "execution_count": 8,
   "id": "2f44c0b6-b404-4c4d-b37e-56512b628bc7",
   "metadata": {},
   "outputs": [],
   "source": [
    "data_train_use.to_csv('/media/ELAsTICC/Fink/first_year/early_SNIa/final_model/train.csv', \n",
    "                      index=False)"
   ]
  },
  {
   "cell_type": "code",
   "execution_count": 9,
   "id": "1e30b230-e9ff-432d-90c3-edf73cd9015c",
   "metadata": {},
   "outputs": [],
   "source": [
    "data_test_use.to_csv('/media/ELAsTICC/Fink/first_year/early_SNIa/final_model/test.csv',\n",
    "                       index=False)"
   ]
  },
  {
   "cell_type": "code",
   "execution_count": 19,
   "id": "cd648460-beaf-4216-b631-d2abd02b4c06",
   "metadata": {},
   "outputs": [
    {
     "data": {
      "text/plain": [
       "(1932828, 46)"
      ]
     },
     "execution_count": 19,
     "metadata": {},
     "output_type": "execute_result"
    }
   ],
   "source": [
    "data_test_use.shape"
   ]
  },
  {
   "cell_type": "code",
   "execution_count": 42,
   "id": "6f7a0318-36f5-4dde-9851-340d6d667d8c",
   "metadata": {},
   "outputs": [
    {
     "data": {
      "text/plain": [
       "RandomForestClassifier(max_depth=50, min_samples_leaf=1e-05, n_estimators=50,\n",
       "                       n_jobs=20, random_state=42)"
      ]
     },
     "execution_count": 42,
     "metadata": {},
     "output_type": "execute_result"
    }
   ],
   "source": [
    "nest = 50\n",
    "seed = 42\n",
    "max_depth = 50\n",
    "n_jobs = 20\n",
    "min_samples_leaf=0.00001\n",
    "\n",
    "clf = RandomForestClassifier(n_estimators=nest, random_state=seed,\n",
    "                             max_depth=max_depth, n_jobs=n_jobs, \n",
    "                             min_samples_leaf=min_samples_leaf)\n",
    "clf.fit(data_train_features, data_train_labels)"
   ]
  },
  {
   "cell_type": "code",
   "execution_count": 49,
   "id": "64b2a229-091d-4f53-b89a-22886b0ddccf",
   "metadata": {},
   "outputs": [],
   "source": [
    "pred = clf.predict(data_test_features)"
   ]
  },
  {
   "cell_type": "code",
   "execution_count": 50,
   "id": "2aca308c-e7ce-49fd-9dc0-d98949fc277c",
   "metadata": {},
   "outputs": [
    {
     "data": {
      "text/plain": [
       "(1932828, 43)"
      ]
     },
     "execution_count": 50,
     "metadata": {},
     "output_type": "execute_result"
    }
   ],
   "source": [
    "data_test_features.shape"
   ]
  },
  {
   "cell_type": "code",
   "execution_count": 51,
   "id": "2572730a-4b61-406e-8354-e55d09b7a587",
   "metadata": {},
   "outputs": [
    {
     "data": {
      "text/plain": [
       "966414"
      ]
     },
     "execution_count": 51,
     "metadata": {},
     "output_type": "execute_result"
    }
   ],
   "source": [
    "sum(data_test_labels)"
   ]
  },
  {
   "cell_type": "code",
   "execution_count": 52,
   "id": "857ff649-1e68-49f0-8194-dc0f0c5e9c15",
   "metadata": {},
   "outputs": [
    {
     "data": {
      "text/plain": [
       "0.905351"
      ]
     },
     "execution_count": 52,
     "metadata": {},
     "output_type": "execute_result"
    }
   ],
   "source": [
    "clf.score(data_train_features, data_train_labels)"
   ]
  },
  {
   "cell_type": "code",
   "execution_count": 53,
   "id": "404107be-5f89-4719-bfc0-7eec4f7d2f45",
   "metadata": {},
   "outputs": [
    {
     "data": {
      "text/plain": [
       "0.8212381029248335"
      ]
     },
     "execution_count": 53,
     "metadata": {},
     "output_type": "execute_result"
    }
   ],
   "source": [
    "clf.score(data_test_features, data_test_labels)"
   ]
  },
  {
   "cell_type": "code",
   "execution_count": 54,
   "id": "3eae4f86-1502-46e4-9b00-d1eef1253034",
   "metadata": {},
   "outputs": [
    {
     "data": {
      "text/plain": [
       "0.783404812374364"
      ]
     },
     "execution_count": 54,
     "metadata": {},
     "output_type": "execute_result"
    }
   ],
   "source": [
    "sum(data_test_labels[pred == 1])/sum(pred)"
   ]
  },
  {
   "cell_type": "code",
   "execution_count": 55,
   "id": "83862e7e-e04b-4bd9-9f34-e0057e4db7c5",
   "metadata": {},
   "outputs": [],
   "source": [
    "filename = '../data/earlysnia_elasticc_small.pkl'\n",
    "pickle.dump(clf, open(filename, 'wb'))"
   ]
  },
  {
   "cell_type": "code",
   "execution_count": 16,
   "id": "f557242d-ed80-4db8-9f3a-32084e98244a",
   "metadata": {},
   "outputs": [
    {
     "data": {
      "text/plain": [
       "array(['nrise_u', 'nrise_g', 'mse_u', 'a_u', 'b_u', 'mse_g', 'nrise_Y',\n",
       "       'a_g', 'b_g', 'nrise_z', 'c_u', 'mse_Y', 'nrise_r', 'c_g',\n",
       "       'snratio_u', 'a_Y', 'b_Y', 'mse_z', 'snratio_g', 'nrise_i', 'c_Y',\n",
       "       'a_z', 'c_z', 'b_z', 'mse_r', 'decl', 'ra', 'snratio_z', 'mse_i',\n",
       "       'snratio_i', 'snratio_r', 'b_r', 'snratio_Y', 'a_i', 'c_i', 'a_r',\n",
       "       'c_r', 'b_i', 'hostgal_dec', 'hostgal_snsep', 'hostgal_ra',\n",
       "       'hostgal_zphot_err', 'hostgal_zphot'], dtype='<U17')"
      ]
     },
     "execution_count": 16,
     "metadata": {},
     "output_type": "execute_result"
    }
   ],
   "source": [
    "np.array(features_names_rep[1:])[clf.feature_importances_.argsort()]"
   ]
  },
  {
   "cell_type": "markdown",
   "id": "4b23cbaf-599c-4d31-bcfc-3d54fbec6bdc",
   "metadata": {},
   "source": [
    "### Crossvalidate"
   ]
  },
  {
   "cell_type": "code",
   "execution_count": 18,
   "id": "7f7766ca-f4ff-4ae1-8b6f-7de51ddb0226",
   "metadata": {},
   "outputs": [],
   "source": [
    "scoring = ['precision_macro', 'recall_macro']"
   ]
  },
  {
   "cell_type": "code",
   "execution_count": 20,
   "id": "c8fc5a63-3cd4-42a3-9f15-8445ad3387d3",
   "metadata": {},
   "outputs": [],
   "source": [
    "nest = 30\n",
    "max_depth = 30\n",
    "n_jobs = 20\n",
    "cv=10\n",
    "\n",
    "clf = RandomForestClassifier(n_estimators=nest, random_state=seed,\n",
    "                             max_depth=max_depth)\n",
    "scores = cross_validate(clf, data_train_use[list(data_train_use.keys())[3:]], \n",
    "                        data_train_use['classId'].values == 111, scoring=scoring,\n",
    "                       return_train_score=True, cv=cv)"
   ]
  },
  {
   "cell_type": "code",
   "execution_count": 21,
   "id": "6ee51ae7-da43-40a9-aa39-bac33b1f6b88",
   "metadata": {},
   "outputs": [
    {
     "data": {
      "text/plain": [
       "array([0.85566007, 0.85508283, 0.85397706, 0.85309592, 0.85130072,\n",
       "       0.85452727, 0.85328974, 0.85552044, 0.85523075, 0.8555537 ])"
      ]
     },
     "execution_count": 21,
     "metadata": {},
     "output_type": "execute_result"
    }
   ],
   "source": [
    "scores['test_precision_macro']"
   ]
  },
  {
   "cell_type": "code",
   "execution_count": 22,
   "id": "4341dac2-1d39-4a83-b06a-4ef2167071b2",
   "metadata": {},
   "outputs": [
    {
     "data": {
      "text/plain": [
       "array([0.97005914, 0.96994843, 0.97106427, 0.97168394, 0.97099679,\n",
       "       0.9689634 , 0.97081157, 0.97067437, 0.96986394, 0.9707479 ])"
      ]
     },
     "execution_count": 22,
     "metadata": {},
     "output_type": "execute_result"
    }
   ],
   "source": [
    "scores['train_precision_macro']"
   ]
  },
  {
   "cell_type": "code",
   "execution_count": null,
   "id": "5eafc591-5bbb-4196-b308-e9b2197ee9e1",
   "metadata": {},
   "outputs": [],
   "source": []
  }
 ],
 "metadata": {
  "kernelspec": {
   "display_name": "Python 3 (ipykernel)",
   "language": "python",
   "name": "python3"
  },
  "language_info": {
   "codemirror_mode": {
    "name": "ipython",
    "version": 3
   },
   "file_extension": ".py",
   "mimetype": "text/x-python",
   "name": "python",
   "nbconvert_exporter": "python",
   "pygments_lexer": "ipython3",
   "version": "3.7.1"
  }
 },
 "nbformat": 4,
 "nbformat_minor": 5
}
