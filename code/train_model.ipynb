{
 "cells": [
  {
   "cell_type": "code",
   "execution_count": 91,
   "id": "a7cc8afb-d1e9-41d2-89b6-7ed573d2390c",
   "metadata": {},
   "outputs": [],
   "source": [
    "import pandas as pd\n",
    "import numpy as np\n",
    "import os\n",
    "from copy import deepcopy\n",
    "\n",
    "from actsnfink import *\n",
    "from sklearn.ensemble import RandomForestClassifier\n",
    "\n",
    "from sklearn.model_selection import cross_validate\n",
    "from sklearn.metrics import precision_score\n",
    "import pickle\n",
    "import glob\n",
    "import matplotlib.pylab as plt\n",
    "import joblib"
   ]
  },
  {
   "cell_type": "code",
   "execution_count": 20,
   "id": "a9dbb003-18a5-403c-95ec-758375da9341",
   "metadata": {},
   "outputs": [],
   "source": [
    "\n",
    "taxonomy = {111: 'Ia',\n",
    "           112: 'Ibc',\n",
    "           113: 'II',\n",
    "           114: 'Iax',\n",
    "           115: '91bg',\n",
    "           120: 'FastOther',\n",
    "           121: 'KN',\n",
    "           122: 'Mdwarf',\n",
    "           123: 'DwarfNovae',\n",
    "           124: 'mLens',\n",
    "           130: 'LongOther',\n",
    "           131: 'SLSN',\n",
    "           132: 'TDE',\n",
    "           133: 'ILOT',\n",
    "           134: 'CART',\n",
    "           135: 'PISN',\n",
    "           210: 'PeriodicOther',\n",
    "           211: 'Cepheid',\n",
    "           212: 'RRLyrae',\n",
    "           213: 'dScuti',\n",
    "           214: 'EB',\n",
    "           215: 'LPVMira',\n",
    "           220: 'NonPeriodicOther',\n",
    "           221: 'AGN'}\n",
    "\n",
    "# create inverse taxonomy\n",
    "taxonomy_inv = {v: k for k, v in taxonomy.items()}\n"
   ]
  },
  {
   "cell_type": "code",
   "execution_count": 2,
   "id": "adc2db7a-53fe-43e5-ae5b-0bf362a520da",
   "metadata": {},
   "outputs": [
    {
     "name": "stdout",
     "output_type": "stream",
     "text": [
      "class_111.csv 48 2507323 [111]\n",
      "class_131.csv 48 170026 [131]\n",
      "class_212.csv 48 2230557 [212]\n",
      "class_214.csv 48 1301841 [214]\n",
      "class_124.csv 48 12923 [124]\n",
      "class_123.csv 48 4023 [123]\n",
      "class_135.csv 48 2761 [135]\n",
      "class_213.csv 48 429117 [213]\n",
      "class_221.csv 48 453542 [221]\n",
      "class_113.csv 48 2451398 [113]\n",
      "class_115.csv 48 49795 [115]\n",
      "class_133.csv 48 4043 [133]\n",
      "class_132.csv 48 30705 [132]\n",
      "class_121.csv 48 5 [121]\n",
      "class_134.csv 48 12833 [134]\n",
      "class_211.csv 48 47713 [211]\n",
      "class_112.csv 48 583007 [112]\n",
      "class_114.csv 48 60497 [114]\n",
      "Total:  10352109\n"
     ]
    }
   ],
   "source": [
    "input_dir = '/media/ELAsTICC/Fink/first_year/early_SNIa/all_features/'\n",
    "\n",
    "flist = os.listdir(input_dir)\n",
    "flist.remove('.ipynb_checkpoints')\n",
    "\n",
    "data_list = []\n",
    "for fname in flist:\n",
    "    data_temp = pd.read_csv(input_dir + fname, index_col=False)\n",
    "    \n",
    "    col_remove = []\n",
    "    for colname in data_temp.keys():\n",
    "        if 'Unnamed' in colname:\n",
    "            col_remove.append(colname)\n",
    "            \n",
    "    if len(col_remove) > 0:\n",
    "        data_temp.drop(columns=col_remove, inplace=True)\n",
    "\n",
    "    data_list.append(data_temp)\n",
    "    \n",
    "    print(fname, len(data_temp.keys()), data_temp.shape[0], np.unique(data_temp['classId'].values))\n",
    "    \n",
    "data_pd = pd.concat(data_list, ignore_index=True)\n",
    "\n",
    "print('Total: ', data_pd.shape[0])"
   ]
  },
  {
   "cell_type": "code",
   "execution_count": 4,
   "id": "d166ce36-b304-4b36-b2da-4d8c397a01bf",
   "metadata": {},
   "outputs": [
    {
     "data": {
      "text/plain": [
       "Index(['diaObjectId', 'alertId', 'classId', 'hostgal_dec', 'hostgal_ra',\n",
       "       'hostgal_snsep', 'hostgal_zphot', 'hostgal_zphot_err', 'mwebv_err',\n",
       "       'mwebv_err.1', 'ra', 'decl', 'a_u', 'b_u', 'c_u', 'snratio_u', 'mse_u',\n",
       "       'nrise_u', 'a_g', 'b_g', 'c_g', 'snratio_g', 'mse_g', 'nrise_g', 'a_r',\n",
       "       'b_r', 'c_r', 'snratio_r', 'mse_r', 'nrise_r', 'a_i', 'b_i', 'c_i',\n",
       "       'snratio_i', 'mse_i', 'nrise_i', 'a_z', 'b_z', 'c_z', 'snratio_z',\n",
       "       'mse_z', 'nrise_z', 'a_Y', 'b_Y', 'c_Y', 'snratio_Y', 'mse_Y',\n",
       "       'nrise_Y'],\n",
       "      dtype='object')"
      ]
     },
     "execution_count": 4,
     "metadata": {},
     "output_type": "execute_result"
    }
   ],
   "source": [
    "data_pd.keys()"
   ]
  },
  {
   "cell_type": "code",
   "execution_count": 36,
   "id": "f3d12eb1-6591-4b77-a1b4-f89ca96252f7",
   "metadata": {},
   "outputs": [],
   "source": [
    "# read training samples\n",
    "flist = glob.glob('/media/ELAsTICC/Fink/first_year/early_SNIa/AL/UncSampling/training_samples/train_*.csv')\n",
    "\n",
    "train_list = []\n",
    "for fname in flist:\n",
    "    train_list.append(pd.read_csv(fname, index_col=False))\n",
    "    \n",
    "train_pd = pd.concat(train_list, ignore_index=True)\n",
    "train_pd.drop(columns=['Unnamed: 0'], inplace=True)\n",
    "train_pd = train_pd.sample(n=train_pd.shape[0], replace=False)\n",
    "\n",
    "train_pd.drop_duplicates(subset=['id'], keep='first', inplace=True)\n",
    "train_pd.drop(columns=['mwebv_err', 'mwebv_err.1'], inplace=True)"
   ]
  },
  {
   "cell_type": "code",
   "execution_count": 37,
   "id": "fad911ae-5089-4698-9c34-ebd7eadd2877",
   "metadata": {},
   "outputs": [],
   "source": [
    "if np.unique(train_pd['id'].values).shape[0] != train_pd.shape[0]:\n",
    "    raise ValueError('Repeated ids in training.')"
   ]
  },
  {
   "cell_type": "code",
   "execution_count": 38,
   "id": "54e18ec2-54e0-48c6-b3a0-881102830a9c",
   "metadata": {},
   "outputs": [
    {
     "data": {
      "text/plain": [
       "(190268, 47)"
      ]
     },
     "execution_count": 38,
     "metadata": {},
     "output_type": "execute_result"
    }
   ],
   "source": [
    "train_pd.shape"
   ]
  },
  {
   "cell_type": "code",
   "execution_count": 39,
   "id": "ecee9d71-b499-47ab-a6b8-458b2a282ed2",
   "metadata": {},
   "outputs": [
    {
     "data": {
      "text/plain": [
       "Index(['diaObjectId', 'id', 'classId', 'type', 'hostgal_dec', 'hostgal_ra',\n",
       "       'hostgal_snsep', 'hostgal_zphot', 'hostgal_zphot_err', 'ra', 'decl',\n",
       "       'a_u', 'b_u', 'c_u', 'snratio_u', 'mse_u', 'nrise_u', 'a_g', 'b_g',\n",
       "       'c_g', 'snratio_g', 'mse_g', 'nrise_g', 'a_r', 'b_r', 'c_r',\n",
       "       'snratio_r', 'mse_r', 'nrise_r', 'a_i', 'b_i', 'c_i', 'snratio_i',\n",
       "       'mse_i', 'nrise_i', 'a_z', 'b_z', 'c_z', 'snratio_z', 'mse_z',\n",
       "       'nrise_z', 'a_Y', 'b_Y', 'c_Y', 'snratio_Y', 'mse_Y', 'nrise_Y'],\n",
       "      dtype='object')"
      ]
     },
     "execution_count": 39,
     "metadata": {},
     "output_type": "execute_result"
    }
   ],
   "source": [
    "train_pd.keys()"
   ]
  },
  {
   "cell_type": "code",
   "execution_count": 23,
   "id": "b798248c-ce63-4535-98e3-ab51ae12ca07",
   "metadata": {},
   "outputs": [
    {
     "name": "stdout",
     "output_type": "stream",
     "text": [
      "Ia -- 0.404\n",
      "Ibc -- 0.052\n",
      "II -- 0.057\n",
      "Iax -- 0.043\n",
      "91bg -- 0.04\n",
      "DwarfNovae -- 0.0\n",
      "mLens -- 0.0\n",
      "SLSN -- 0.05\n",
      "TDE -- 0.018\n",
      "ILOT -- 0.002\n",
      "CART -- 0.009\n",
      "PISN -- 0.001\n",
      "Cepheid -- 0.001\n",
      "RRLyrae -- 0.086\n",
      "dScuti -- 0.089\n",
      "EB -- 0.091\n",
      "AGN -- 0.055\n"
     ]
    }
   ],
   "source": [
    "# check labels in training\n",
    "snclass, freq = np.unique(train_pd['classId'].values, return_counts=True)\n",
    "\n",
    "for i in range(len(snclass)):\n",
    "    print(taxonomy[snclass[i]], '--', round(freq[i]/train_pd.shape[0],3))"
   ]
  },
  {
   "cell_type": "code",
   "execution_count": 31,
   "id": "ff6f4ac2-84c6-4d95-932d-b4f7461e3676",
   "metadata": {},
   "outputs": [],
   "source": [
    "# remove training from the rest of the data\n",
    "flag_train_alert = np.isin(data_pd['diaObjectId'].values, train_pd['diaObjectId'].values)\n",
    "data_use = data_pd[~flag_train_alert]"
   ]
  },
  {
   "cell_type": "code",
   "execution_count": 32,
   "id": "151a3879-55d4-403f-a862-44e92f5689c6",
   "metadata": {},
   "outputs": [
    {
     "data": {
      "text/plain": [
       "(7978549, 48)"
      ]
     },
     "execution_count": 32,
     "metadata": {},
     "output_type": "execute_result"
    }
   ],
   "source": [
    "data_use.shape"
   ]
  },
  {
   "cell_type": "code",
   "execution_count": null,
   "id": "2cee5ec7-61aa-490f-b35d-2663a2aee9de",
   "metadata": {},
   "outputs": [],
   "source": [
    "train_pd.shape"
   ]
  },
  {
   "cell_type": "code",
   "execution_count": null,
   "id": "c13c40bb-976b-4c94-9a74-9c60e3a1dc33",
   "metadata": {},
   "outputs": [],
   "source": []
  },
  {
   "cell_type": "code",
   "execution_count": 40,
   "id": "c487c305-a005-40df-9fd2-665375d7cb7c",
   "metadata": {},
   "outputs": [
    {
     "data": {
      "text/plain": [
       "['classId',\n",
       " 'hostgal_dec',\n",
       " 'hostgal_ra',\n",
       " 'hostgal_snsep',\n",
       " 'hostgal_zphot',\n",
       " 'hostgal_zphot_err',\n",
       " 'ra',\n",
       " 'decl',\n",
       " 'a_u',\n",
       " 'b_u',\n",
       " 'c_u',\n",
       " 'snratio_u',\n",
       " 'mse_u',\n",
       " 'nrise_u',\n",
       " 'a_g',\n",
       " 'b_g',\n",
       " 'c_g',\n",
       " 'snratio_g',\n",
       " 'mse_g',\n",
       " 'nrise_g',\n",
       " 'a_r',\n",
       " 'b_r',\n",
       " 'c_r',\n",
       " 'snratio_r',\n",
       " 'mse_r',\n",
       " 'nrise_r',\n",
       " 'a_i',\n",
       " 'b_i',\n",
       " 'c_i',\n",
       " 'snratio_i',\n",
       " 'mse_i',\n",
       " 'nrise_i',\n",
       " 'a_z',\n",
       " 'b_z',\n",
       " 'c_z',\n",
       " 'snratio_z',\n",
       " 'mse_z',\n",
       " 'nrise_z',\n",
       " 'a_Y',\n",
       " 'b_Y',\n",
       " 'c_Y',\n",
       " 'snratio_Y',\n",
       " 'mse_Y',\n",
       " 'nrise_Y']"
      ]
     },
     "execution_count": 40,
     "metadata": {},
     "output_type": "execute_result"
    }
   ],
   "source": [
    "features_names_rep = list(data_pd.keys())\n",
    "for name in ['diaObjectId', 'alertId', 'mwebv_err', 'mwebv_err.1']:\n",
    "    features_names_rep.remove(name)\n",
    "    \n",
    "features_names_rep"
   ]
  },
  {
   "cell_type": "code",
   "execution_count": 34,
   "id": "38f7cac3-4a80-4fa8-bb21-dd23d804c5d0",
   "metadata": {},
   "outputs": [],
   "source": [
    "data_use.drop(columns=['mwebv_err', 'mwebv_err.1'], inplace=True)"
   ]
  },
  {
   "cell_type": "code",
   "execution_count": 46,
   "id": "a7e8b233-0773-4340-9abe-b8954d0643cd",
   "metadata": {},
   "outputs": [],
   "source": [
    "data_train_features = deepcopy(train_pd[features_names_rep[1:]])\n",
    "data_train_labels = train_pd['classId'].values == 111\n",
    "\n",
    "data_test_features = deepcopy(data_use[features_names_rep[1:]])\n",
    "#data_test_features = deepcopy(data_test_use[features_use])\n",
    "\n",
    "data_test_labels = data_use['classId'].values == 111"
   ]
  },
  {
   "cell_type": "code",
   "execution_count": 42,
   "id": "2f44c0b6-b404-4c4d-b37e-56512b628bc7",
   "metadata": {},
   "outputs": [],
   "source": [
    "train_pd.to_csv('/media/ELAsTICC/Fink/first_year/early_SNIa/AL/UncSampling/final_model/train.csv', \n",
    "                      index=False)"
   ]
  },
  {
   "cell_type": "code",
   "execution_count": 43,
   "id": "1e30b230-e9ff-432d-90c3-edf73cd9015c",
   "metadata": {},
   "outputs": [],
   "source": [
    "data_use.to_csv('/media/ELAsTICC/Fink/first_year/early_SNIa/AL/UncSampling/final_model/test.csv',\n",
    "                       index=False)"
   ]
  },
  {
   "cell_type": "code",
   "execution_count": 44,
   "id": "cd648460-beaf-4216-b631-d2abd02b4c06",
   "metadata": {},
   "outputs": [
    {
     "data": {
      "text/plain": [
       "(7978549, 46)"
      ]
     },
     "execution_count": 44,
     "metadata": {},
     "output_type": "execute_result"
    }
   ],
   "source": [
    "data_use.shape"
   ]
  },
  {
   "cell_type": "code",
   "execution_count": 93,
   "id": "6f7a0318-36f5-4dde-9851-340d6d667d8c",
   "metadata": {},
   "outputs": [
    {
     "data": {
      "text/plain": [
       "RandomForestClassifier(max_depth=50, min_samples_leaf=0.0001, n_jobs=30,\n",
       "                       random_state=42)"
      ]
     },
     "execution_count": 93,
     "metadata": {},
     "output_type": "execute_result"
    }
   ],
   "source": [
    "nest = 100\n",
    "seed = 42\n",
    "max_depth = 30\n",
    "n_jobs = 30\n",
    "min_samples_leaf=0.0001\n",
    "\n",
    "clf = RandomForestClassifier(n_estimators=nest, random_state=seed,\n",
    "                             max_depth=max_depth, n_jobs=n_jobs,\n",
    "                             min_samples_leaf= min_samples_leaf)\n",
    "clf.fit(data_train_features, data_train_labels)"
   ]
  },
  {
   "cell_type": "code",
   "execution_count": 94,
   "id": "64b2a229-091d-4f53-b89a-22886b0ddccf",
   "metadata": {},
   "outputs": [],
   "source": [
    "pred = clf.predict(data_test_features)\n",
    "probIa = clf.predict_proba(data_test_features[data_test_labels == 1])\n",
    "probnIa = clf.predict_proba(data_test_features[data_test_labels == 0])\n",
    "prob = clf.predict_proba(data_test_features)"
   ]
  },
  {
   "cell_type": "code",
   "execution_count": 95,
   "id": "3f4b6b32-2696-4be9-a413-c958bf8a6161",
   "metadata": {},
   "outputs": [
    {
     "data": {
      "image/png": "[encoded data removed]",
      "text/plain": [
       "<Figure size 432x288 with 1 Axes>"
      ]
     },
     "metadata": {
      "needs_background": "light"
     },
     "output_type": "display_data"
    }
   ],
   "source": [
    "plt.figure()\n",
    "plt.hist(probIa[:,1], label='Ia', alpha=0.4, bins=30)\n",
    "plt.hist(probnIa[:,1], label='nIa', alpha=0.4, bins=30)\n",
    "plt.legend()\n",
    "plt.xlabel('predict_prob')\n",
    "plt.ylabel('N')\n",
    "plt.show()"
   ]
  },
  {
   "cell_type": "code",
   "execution_count": 82,
   "id": "2aca308c-e7ce-49fd-9dc0-d98949fc277c",
   "metadata": {},
   "outputs": [
    {
     "data": {
      "text/plain": [
       "(7978549, 43)"
      ]
     },
     "execution_count": 82,
     "metadata": {},
     "output_type": "execute_result"
    }
   ],
   "source": [
    "data_test_features.shape"
   ]
  },
  {
   "cell_type": "code",
   "execution_count": 83,
   "id": "2572730a-4b61-406e-8354-e55d09b7a587",
   "metadata": {},
   "outputs": [
    {
     "data": {
      "text/plain": [
       "1754259"
      ]
     },
     "execution_count": 83,
     "metadata": {},
     "output_type": "execute_result"
    }
   ],
   "source": [
    "sum(data_test_labels)"
   ]
  },
  {
   "cell_type": "code",
   "execution_count": 84,
   "id": "857ff649-1e68-49f0-8194-dc0f0c5e9c15",
   "metadata": {},
   "outputs": [
    {
     "data": {
      "text/plain": [
       "1.0"
      ]
     },
     "execution_count": 84,
     "metadata": {},
     "output_type": "execute_result"
    }
   ],
   "source": [
    "clf.score(data_train_features, data_train_labels)"
   ]
  },
  {
   "cell_type": "code",
   "execution_count": 96,
   "id": "404107be-5f89-4719-bfc0-7eec4f7d2f45",
   "metadata": {},
   "outputs": [
    {
     "data": {
      "text/plain": [
       "0.7915202375770332"
      ]
     },
     "execution_count": 96,
     "metadata": {},
     "output_type": "execute_result"
    }
   ],
   "source": [
    "clf.score(data_test_features, data_test_labels)"
   ]
  },
  {
   "cell_type": "code",
   "execution_count": 97,
   "id": "3b7f2ed2-8353-4363-ac0c-e065c7a7929a",
   "metadata": {},
   "outputs": [
    {
     "data": {
      "text/plain": [
       "0.5148137415613028"
      ]
     },
     "execution_count": 97,
     "metadata": {},
     "output_type": "execute_result"
    }
   ],
   "source": [
    "sum(data_test_labels[prob[:,1] > 0.5])/sum(prob[:,1] > 0.5)"
   ]
  },
  {
   "cell_type": "code",
   "execution_count": 98,
   "id": "3eae4f86-1502-46e4-9b00-d1eef1253034",
   "metadata": {},
   "outputs": [
    {
     "data": {
      "text/plain": [
       "0.8949639317737478"
      ]
     },
     "execution_count": 98,
     "metadata": {},
     "output_type": "execute_result"
    }
   ],
   "source": [
    "sum(data_test_labels[prob[:,1] > 0.8])/sum(prob[:,1] > 0.8)"
   ]
  },
  {
   "cell_type": "code",
   "execution_count": 99,
   "id": "787b5ac0-38e0-49ab-a967-f3f419097d74",
   "metadata": {},
   "outputs": [
    {
     "data": {
      "text/plain": [
       "0.0075672976453305925"
      ]
     },
     "execution_count": 99,
     "metadata": {},
     "output_type": "execute_result"
    }
   ],
   "source": [
    "sum(data_test_labels[prob[:,1] > 0.8])/sum(data_test_labels)"
   ]
  },
  {
   "cell_type": "code",
   "execution_count": 100,
   "id": "83862e7e-e04b-4bd9-9f34-e0057e4db7c5",
   "metadata": {},
   "outputs": [],
   "source": [
    "filename = '../data/earlysnia_elasticc_small.pkl'\n",
    "pickle.dump(clf, open(filename, 'wb'))"
   ]
  },
  {
   "cell_type": "code",
   "execution_count": 101,
   "id": "9ab32d4c-6c6a-478a-9d24-ac721375909f",
   "metadata": {},
   "outputs": [
    {
     "data": {
      "text/plain": [
       "['../data/earlysnia_elasticc_small.joblib']"
      ]
     },
     "execution_count": 101,
     "metadata": {},
     "output_type": "execute_result"
    }
   ],
   "source": [
    "# save model\n",
    "filename = '../data/earlysnia_elasticc_small.joblib'\n",
    "\n",
    "joblib.dump(clf, filename)"
   ]
  },
  {
   "cell_type": "code",
   "execution_count": 16,
   "id": "f557242d-ed80-4db8-9f3a-32084e98244a",
   "metadata": {},
   "outputs": [
    {
     "data": {
      "text/plain": [
       "array(['nrise_u', 'nrise_g', 'mse_u', 'a_u', 'b_u', 'mse_g', 'nrise_Y',\n",
       "       'a_g', 'b_g', 'nrise_z', 'c_u', 'mse_Y', 'nrise_r', 'c_g',\n",
       "       'snratio_u', 'a_Y', 'b_Y', 'mse_z', 'snratio_g', 'nrise_i', 'c_Y',\n",
       "       'a_z', 'c_z', 'b_z', 'mse_r', 'decl', 'ra', 'snratio_z', 'mse_i',\n",
       "       'snratio_i', 'snratio_r', 'b_r', 'snratio_Y', 'a_i', 'c_i', 'a_r',\n",
       "       'c_r', 'b_i', 'hostgal_dec', 'hostgal_snsep', 'hostgal_ra',\n",
       "       'hostgal_zphot_err', 'hostgal_zphot'], dtype='<U17')"
      ]
     },
     "execution_count": 16,
     "metadata": {},
     "output_type": "execute_result"
    }
   ],
   "source": [
    "np.array(features_names_rep[1:])[clf.feature_importances_.argsort()]"
   ]
  },
  {
   "cell_type": "markdown",
   "id": "4b23cbaf-599c-4d31-bcfc-3d54fbec6bdc",
   "metadata": {},
   "source": [
    "### Crossvalidate"
   ]
  },
  {
   "cell_type": "code",
   "execution_count": 18,
   "id": "7f7766ca-f4ff-4ae1-8b6f-7de51ddb0226",
   "metadata": {},
   "outputs": [],
   "source": [
    "scoring = ['precision_macro', 'recall_macro']"
   ]
  },
  {
   "cell_type": "code",
   "execution_count": 20,
   "id": "c8fc5a63-3cd4-42a3-9f15-8445ad3387d3",
   "metadata": {},
   "outputs": [],
   "source": [
    "nest = 30\n",
    "max_depth = 30\n",
    "n_jobs = 20\n",
    "cv=10\n",
    "\n",
    "clf = RandomForestClassifier(n_estimators=nest, random_state=seed,\n",
    "                             max_depth=max_depth)\n",
    "scores = cross_validate(clf, data_train_use[list(data_train_use.keys())[3:]], \n",
    "                        data_train_use['classId'].values == 111, scoring=scoring,\n",
    "                       return_train_score=True, cv=cv)"
   ]
  },
  {
   "cell_type": "code",
   "execution_count": 21,
   "id": "6ee51ae7-da43-40a9-aa39-bac33b1f6b88",
   "metadata": {},
   "outputs": [
    {
     "data": {
      "text/plain": [
       "array([0.85566007, 0.85508283, 0.85397706, 0.85309592, 0.85130072,\n",
       "       0.85452727, 0.85328974, 0.85552044, 0.85523075, 0.8555537 ])"
      ]
     },
     "execution_count": 21,
     "metadata": {},
     "output_type": "execute_result"
    }
   ],
   "source": [
    "scores['test_precision_macro']"
   ]
  },
  {
   "cell_type": "code",
   "execution_count": 22,
   "id": "4341dac2-1d39-4a83-b06a-4ef2167071b2",
   "metadata": {},
   "outputs": [
    {
     "data": {
      "text/plain": [
       "array([0.97005914, 0.96994843, 0.97106427, 0.97168394, 0.97099679,\n",
       "       0.9689634 , 0.97081157, 0.97067437, 0.96986394, 0.9707479 ])"
      ]
     },
     "execution_count": 22,
     "metadata": {},
     "output_type": "execute_result"
    }
   ],
   "source": [
    "scores['train_precision_macro']"
   ]
  },
  {
   "cell_type": "code",
   "execution_count": null,
   "id": "5eafc591-5bbb-4196-b308-e9b2197ee9e1",
   "metadata": {},
   "outputs": [],
   "source": []
  }
 ],
 "metadata": {
  "kernelspec": {
   "display_name": "Python 3 (ipykernel)",
   "language": "python",
   "name": "python3"
  },
  "language_info": {
   "codemirror_mode": {
    "name": "ipython",
    "version": 3
   },
   "file_extension": ".py",
   "mimetype": "text/x-python",
   "name": "python",
   "nbconvert_exporter": "python",
   "pygments_lexer": "ipython3",
   "version": "3.7.1"
  }
 },
 "nbformat": 4,
 "nbformat_minor": 5
}
